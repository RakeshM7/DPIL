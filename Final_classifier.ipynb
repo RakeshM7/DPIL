{
  "nbformat": 4,
  "nbformat_minor": 0,
  "metadata": {
    "colab": {
      "name": "Final classifier",
      "provenance": [],
      "collapsed_sections": [],
      "include_colab_link": true
    },
    "kernelspec": {
      "display_name": "Python 3",
      "name": "python3"
    }
  },
  "cells": [
    {
      "cell_type": "markdown",
      "metadata": {
        "id": "view-in-github",
        "colab_type": "text"
      },
      "source": [
        "<a href=\"https://colab.research.google.com/github/RakeshM7/DPIL/blob/master/Final_classifier.ipynb\" target=\"_parent\"><img src=\"https://colab.research.google.com/assets/colab-badge.svg\" alt=\"Open In Colab\"/></a>"
      ]
    },
    {
      "cell_type": "code",
      "metadata": {
        "id": "1AF3TX34ZoQU",
        "colab_type": "code",
        "colab": {}
      },
      "source": [
        "from google.colab import drive\n",
        "drive.mount('/content/drive',force_remount=True)"
      ],
      "execution_count": null,
      "outputs": []
    },
    {
      "cell_type": "markdown",
      "metadata": {
        "id": "QlUqQp3_ATyz",
        "colab_type": "text"
      },
      "source": [
        "The below code reads the output file and converts into a 2 D list of probabilities\n"
      ]
    },
    {
      "cell_type": "code",
      "metadata": {
        "id": "IazG-PutaiHZ",
        "colab_type": "code",
        "colab": {}
      },
      "source": [
        "def conv(filename,algorithm):\n",
        "  if(algorithm==\"BERT\"):\n",
        "    path=\"/content/drive/My Drive/FYP/bert/glue/cola/buffer/BERT/\"+filename+\".txt\"\n",
        "  elif(algorithm==\"USE\"):\n",
        "    path=\"/content/drive/My Drive/FYP/bert/glue/cola/buffer/USE/\"+filename+\".txt\"\n",
        "  elif(algorithm==\"SEQ\"):\n",
        "    path=\"/content/drive/My Drive/FYP/bert/glue/cola/buffer/SEQ/\"+filename+\".txt\"\n",
        "  \n",
        "  with open(path) as f:\n",
        "    lang_task = []\n",
        "    for line in f:\n",
        "      line=line.replace(\"[[\",\"\").replace(\"]\\n\",\"\").replace(\"]]\",\"\").replace(\"[\",\"\").replace(\"]\",\"\")\n",
        "      line=line.rstrip().lstrip().split(\" \")\n",
        "      #print(line)\n",
        "      while(line.count('')!=0):\n",
        "        line.remove('')  \n",
        "      for i in range(len(line)):\n",
        "          line[i]=float(line[i])\n",
        "      lang_task.append(line)\n",
        "  return lang_task\n",
        "\n",
        "\n",
        "\n",
        "\n",
        "\n",
        "\n",
        "\n"
      ],
      "execution_count": null,
      "outputs": []
    },
    {
      "cell_type": "markdown",
      "metadata": {
        "id": "tiTPfOgRAh7F",
        "colab_type": "text"
      },
      "source": [
        ""
      ]
    },
    {
      "cell_type": "code",
      "metadata": {
        "id": "y6MbDSQZAhCI",
        "colab_type": "code",
        "colab": {}
      },
      "source": [
        "BERT_task1tamil_results=conv(\"task1tamil-results\",\"BERT\")\n",
        "BERT_task1hindi_results=conv(\"task1hindi-results\",\"BERT\")\n",
        "BERT_task1malayalam_results=conv(\"task1malayalam-results\",\"BERT\")\n",
        "BERT_task1punjabi_results=conv(\"task1punjabi-results\",\"BERT\")\n",
        "\n",
        "# print(BERT_task1tamil_results)\n",
        "BERT_task2tamil_results=conv(\"task2tamil-results\",\"BERT\")\n",
        "BERT_task2hindi_results=conv(\"task2hindi-results\",\"BERT\")\n",
        "BERT_task2malayalam_results=conv(\"task2malayalam-results\",\"BERT\")\n",
        "BERT_task2punjabi_results=conv(\"task2punjabi-results\",\"BERT\")\n",
        "\n",
        "USE_task1tamil_results=conv(\"USE_task1tamil-results\",\"USE\")\n",
        "USE_task1hindi_results=conv(\"USE_task1hindi-results\",\"USE\")\n",
        "USE_task1malayalam_results=conv(\"USE_task1malayalam-results\",\"USE\")\n",
        "USE_task1punjabi_results=conv(\"USE_task1punjabi-results\",\"USE\")\n",
        "\n",
        "\n",
        "USE_task2tamil_results=conv(\"USE_task2tamil-results\",\"USE\")\n",
        "USE_task2hindi_results=conv(\"USE_task2hindi-results\",\"USE\")\n",
        "USE_task2malayalam_results=conv(\"USE_task2malayalam-results\",\"USE\")\n",
        "USE_task2punjabi_results=conv(\"USE_task2punjabi-results\",\"USE\")\n",
        "\n",
        "\n",
        "SEQ_task1tamil_results=conv(\"SEQ_task1tamil-results\",\"SEQ\")\n",
        "SEQ_task1hindi_results=conv(\"SEQ_task1hindi-results\",\"SEQ\")\n",
        "SEQ_task1malayalam_results=conv(\"SEQ_task1malayalam-results\",\"SEQ\")\n",
        "SEQ_task1punjabi_results=conv(\"SEQ_task1punjabi-results\",\"SEQ\")\n",
        "\n",
        "\n",
        "SEQ_task2tamil_results=conv(\"SEQ_task2tamil-results\",\"SEQ\")\n",
        "SEQ_task2hindi_results=conv(\"SEQ_task2hindi-results\",\"SEQ\")\n",
        "SEQ_task2malayalam_results=conv(\"SEQ_task2malayalam-results\",\"SEQ\")\n",
        "SEQ_task2punjabi_results=conv(\"SEQ_task2punjabi-results\",\"SEQ\")\n"
      ],
      "execution_count": null,
      "outputs": []
    },
    {
      "cell_type": "code",
      "metadata": {
        "id": "05cAI19euuav",
        "colab_type": "code",
        "colab": {}
      },
      "source": [
        "def merge(list1,list2,list3):\n",
        "  result=[]\n",
        "  for i in range(len(list1)):\n",
        "    buffer=[]\n",
        "    for j in range(len(list1[i])):\n",
        "      buffer.append(list1[i][j])\n",
        "    for j in range(len(list2[i])):\n",
        "      buffer.append(list2[i][j])\n",
        "    for j in range(len(list2[i])):\n",
        "      buffer.append(list2[i][j])\n",
        "    result.append(buffer)\n",
        "    # print(result[i])\n",
        "  return result"
      ],
      "execution_count": null,
      "outputs": []
    },
    {
      "cell_type": "code",
      "metadata": {
        "id": "56lzE9LJFAZ2",
        "colab_type": "code",
        "colab": {}
      },
      "source": [
        "task1tamil_merge=merge(BERT_task1tamil_results,USE_task1tamil_results,SEQ_task1tamil_results)\n",
        "task2tamil_merge=merge(BERT_task2tamil_results,USE_task2tamil_results,SEQ_task2tamil_results)\n",
        "# print(task1tamil_merge)\n",
        "task1hindi_merge=merge(BERT_task1hindi_results,USE_task1hindi_results,SEQ_task1hindi_results)\n",
        "task2hindi_merge=merge(BERT_task2hindi_results,USE_task2hindi_results,SEQ_task2hindi_results)\n",
        "\n",
        "task1malayalam_merge=merge(BERT_task1malayalam_results,USE_task1malayalam_results,SEQ_task1malayalam_results)\n",
        "task2malayalam_merge=merge(BERT_task2malayalam_results,USE_task2malayalam_results,SEQ_task2malayalam_results)\n",
        "\n",
        "task1punjabi_merge=merge(BERT_task1punjabi_results,USE_task1punjabi_results,SEQ_task1punjabi_results)\n",
        "task2punjabi_merge=merge(BERT_task2punjabi_results,USE_task2punjabi_results,SEQ_task2punjabi_results)"
      ],
      "execution_count": null,
      "outputs": []
    },
    {
      "cell_type": "code",
      "metadata": {
        "id": "A8-ZgJ-3wgBe",
        "colab_type": "code",
        "colab": {}
      },
      "source": [
        "# task1tamil_merge=merge(BERT_task1tamil_results,USE_task1tamil_results)\n",
        "# task2tamil_merge=merge(BERT_task2tamil_results,USE_task2tamil_results)\n",
        "\n",
        "# task1hindi_merge=merge(BERT_task1hindi_results,USE_task1hindi_results)\n",
        "# task2hindi_merge=merge(BERT_task2hindi_results,USE_task2hindi_results)\n",
        "\n",
        "# task1malayalam_merge=merge(BERT_task1malayalam_results,USE_task1malayalam_results)\n",
        "# task2malayalam_merge=merge(BERT_task2malayalam_results,USE_task2malayalam_results)\n",
        "\n",
        "# task1punjabi_merge=merge(BERT_task1punjabi_results,USE_task1punjabi_results)\n",
        "# task2punjabi_merge=merge(BERT_task2punjabi_results,USE_task2punjabi_results)"
      ],
      "execution_count": null,
      "outputs": []
    },
    {
      "cell_type": "code",
      "metadata": {
        "id": "QsnWQ45jUis4",
        "colab_type": "code",
        "colab": {}
      },
      "source": [
        "import numpy as np\n",
        "def softmax(x):\n",
        "    \"\"\"Compute softmax values for each sets of scores in x.\"\"\"\n",
        "    #print(len(x))\n",
        "    e_x = np.exp(x - np.max(x))\n",
        "    #print(np.max(x))\n",
        "    return e_x / e_x.sum()"
      ],
      "execution_count": null,
      "outputs": []
    },
    {
      "cell_type": "code",
      "metadata": {
        "id": "3rao0Bkgbqgb",
        "colab_type": "code",
        "colab": {}
      },
      "source": [
        "def predict(task_lang_merge,task_number):\n",
        "  task_lang_results=[]\n",
        "  line_no=1\n",
        "  for i in range(len(task_lang_merge)):\n",
        "    task_lang_results.append(task_lang_merge[i])\n",
        "  all_predictions=[]\n",
        "  for i in range(len(task_lang_merge)):\n",
        "    # print(line_no,\" \",task_lang_results[i],\"--------\",end=\"\")\n",
        "    max_probability=max(task_lang_results[i])\n",
        "    x=task_lang_results[i].index(max_probability)\n",
        "    # print(task_lang_results[i].index(max_probability),end=\"\")\n",
        "    # print(\"----\",x,\"---\")\n",
        "    if(task_number==1):\n",
        "      if(x==0 or x==2 or x==4):\n",
        "        # print(\"BERT-NP\")\n",
        "        all_predictions.append(0)\n",
        "      elif(x==1 or x==3 or x==5):\n",
        "        # print(\"BERT-P\")\n",
        "        all_predictions.append(1)\n",
        "      \n",
        "    else:\n",
        "      if(x==0 or x==3 or x==6):\n",
        "        #print(\"BERT-NP\")\n",
        "        all_predictions.append(0)\n",
        "      elif(x==1 or x==4 or x==7):\n",
        "        #print(\"BERT-P\")\n",
        "        all_predictions.append(1)\n",
        "      elif(x==2 or x==5 or x==8):\n",
        "        #print(\"BERT-SP\")\n",
        "        all_predictions.append(2)\n",
        "\n",
        "        \n",
        "    line_no+=1\n",
        "  return all_predictions"
      ],
      "execution_count": null,
      "outputs": []
    },
    {
      "cell_type": "code",
      "metadata": {
        "id": "Q5DBlPstfhys",
        "colab_type": "code",
        "colab": {}
      },
      "source": [
        "USE_task1tamil_output=predict(USE_task1tamil_results,1)\n",
        "USE_task2tamil_output=predict(USE_task2tamil_results,2)\n",
        "\n",
        "USE_task1hindi_output=predict(USE_task1hindi_results,1)\n",
        "USE_task2hindi_output=predict(USE_task2hindi_results,2)\n",
        "\n",
        "USE_task1malayalam_output=predict(USE_task1malayalam_results,1)\n",
        "USE_task2malayalam_output=predict(USE_task2malayalam_results,2)\n",
        "\n",
        "USE_task1punjabi_output=predict(USE_task1punjabi_results,1)\n",
        "USE_task2punjabi_output=predict(USE_task2punjabi_results,2)"
      ],
      "execution_count": null,
      "outputs": []
    },
    {
      "cell_type": "code",
      "metadata": {
        "id": "3JuuglfmVJC8",
        "colab_type": "code",
        "colab": {}
      },
      "source": [
        "BERT_task1tamil_output=predict(BERT_task1tamil_results,1)\n",
        "BERT_task2tamil_output=predict(BERT_task2tamil_results,2)\n",
        "\n",
        "BERT_task1hindi_output=predict(BERT_task1hindi_results,1)\n",
        "BERT_task2hindi_output=predict(BERT_task2hindi_results,2)\n",
        "\n",
        "BERT_task1malayalam_output=predict(BERT_task1malayalam_results,1)\n",
        "BERT_task2malayalam_output=predict(BERT_task2malayalam_results,2)\n",
        "\n",
        "BERT_task1punjabi_output=predict(BERT_task1punjabi_results,1)\n",
        "BERT_task2punjabi_output=predict(BERT_task2punjabi_results,2)"
      ],
      "execution_count": null,
      "outputs": []
    },
    {
      "cell_type": "code",
      "metadata": {
        "id": "Qgko4fg9s1sl",
        "colab_type": "code",
        "colab": {}
      },
      "source": [
        "SEQ_task1tamil_output=predict(SEQ_task1tamil_results,1)\n",
        "SEQ_task2tamil_output=predict(SEQ_task2tamil_results,2)\n",
        "\n",
        "SEQ_task1hindi_output=predict(SEQ_task1hindi_results,1)\n",
        "SEQ_task2hindi_output=predict(SEQ_task2hindi_results,2)\n",
        "\n",
        "SEQ_task1malayalam_output=predict(SEQ_task1malayalam_results,1)\n",
        "SEQ_task2malayalam_output=predict(SEQ_task2malayalam_results,2)\n",
        "\n",
        "SEQ_task1punjabi_output=predict(SEQ_task1punjabi_results,1)\n",
        "SEQ_task2punjabi_output=predict(SEQ_task2punjabi_results,2)"
      ],
      "execution_count": null,
      "outputs": []
    },
    {
      "cell_type": "code",
      "metadata": {
        "id": "MevAJbN2NT33",
        "colab_type": "code",
        "colab": {}
      },
      "source": [
        "task1tamil_merge_output=predict(task1tamil_merge,1)\n",
        "task2tamil_merge_output=predict(task2tamil_merge,2)"
      ],
      "execution_count": null,
      "outputs": []
    },
    {
      "cell_type": "code",
      "metadata": {
        "id": "v02xPBVwW9lt",
        "colab_type": "code",
        "colab": {}
      },
      "source": [
        "task1malayalam_merge_output=predict(task1malayalam_merge,1)\n",
        "task2malayalam_merge_output=predict(task2malayalam_merge,2)"
      ],
      "execution_count": null,
      "outputs": []
    },
    {
      "cell_type": "code",
      "metadata": {
        "id": "1x4A5UYoW_1g",
        "colab_type": "code",
        "colab": {}
      },
      "source": [
        "task1hindi_merge_output=predict(task1hindi_merge,1)\n",
        "task2hindi_merge_output=predict(task2hindi_merge,2)"
      ],
      "execution_count": null,
      "outputs": []
    },
    {
      "cell_type": "code",
      "metadata": {
        "id": "4NLon2C5XBZu",
        "colab_type": "code",
        "colab": {}
      },
      "source": [
        "task1punjabi_merge_output=predict(task1punjabi_merge,1)\n",
        "task2punjabi_merge_output=predict(task2punjabi_merge,2)"
      ],
      "execution_count": null,
      "outputs": []
    },
    {
      "cell_type": "code",
      "metadata": {
        "id": "a-OUROihep5y",
        "colab_type": "code",
        "colab": {}
      },
      "source": [
        "def get_truelabels(filename):\n",
        "  \n",
        "  path=\"/content/drive/My Drive/FYP/bert/glue/cola/buffer/true labels/\"+filename+\".txt\"\n",
        "  with open(path) as f:\n",
        "    truelabels = []\n",
        "    for line in f:\n",
        "      line=line.replace(\"[\",\"\").replace(\"]\\n\",\"\").replace(\"]\",\"\")\n",
        "      line=line.rstrip().lstrip().split(\" \")  \n",
        "      for i in range(len(line)):\n",
        "        line[i]=int(line[i])\n",
        "        truelabels.append(line[i])\n",
        "  return truelabels\n",
        "\n",
        "task1tamil_truelabels=get_truelabels(\"task1tamil-labels\")\n",
        "task1hindi_truelabels=get_truelabels(\"task1hindi-labels\")\n",
        "task1malayalam_truelabels=get_truelabels(\"task1malayalam-labels\")\n",
        "task1punjabi_truelabels=get_truelabels(\"task1punjabi-labels\")\n",
        "task2tamil_truelabels=get_truelabels(\"task2tamil-labels\")\n",
        "task2hindi_truelabels=get_truelabels(\"task2hindi-labels\")\n",
        "task2malayalam_truelabels=get_truelabels(\"task2malayalam-labels\")\n",
        "task2punjabi_truelabels=get_truelabels(\"task2punjabi-labels\")"
      ],
      "execution_count": null,
      "outputs": []
    },
    {
      "cell_type": "code",
      "metadata": {
        "id": "ku1u2R86sfo3",
        "colab_type": "code",
        "colab": {}
      },
      "source": [
        "def eval_predictions(task_lang_output,task_lang_truelabels):\n",
        "  true_predictions=0\n",
        "  false_predictions=0\n",
        "  for i in range(len(task_lang_output)):\n",
        "    if(task_lang_output[i]==task_lang_truelabels[i]):\n",
        "      true_predictions+=1\n",
        "    else:\n",
        "      false_predictions+=1\n",
        "\n",
        "\n",
        "  print(\"\\nTrue predictions:\",true_predictions)\n",
        "  print(\"False predictions:\",false_predictions)\n",
        "  \n",
        "  # print(task_lang_output)\n",
        "  # print(task_lang_truelabels)\n",
        "  accuracy=true_predictions/len(task_lang_output)*100\n",
        "  print(\"Acuuracy:\",accuracy,\"%\")\n",
        "  print(\"**********************************************\")\n",
        "\n"
      ],
      "execution_count": null,
      "outputs": []
    },
    {
      "cell_type": "markdown",
      "metadata": {
        "id": "bi2M8ueqdmTm",
        "colab_type": "text"
      },
      "source": [
        "**BERT**\n",
        "\n",
        "---\n",
        "\n"
      ]
    },
    {
      "cell_type": "code",
      "metadata": {
        "id": "BAD2msN4dxNh",
        "colab_type": "code",
        "colab": {}
      },
      "source": [
        "print(\"BERT RESULTS\")\n",
        "print(\"----------------------------------------------------------------------------------------------------------------\")\n",
        "print(\"Task1-Tamil:\",end=\"\")\n",
        "BERT_task1tamil_eval=eval_predictions(BERT_task1tamil_output,task1tamil_truelabels)\n",
        "print(precision_score(BERT_task1tamil_output,task1tamil_truelabels))\n",
        "\n",
        "print(\"Task2-Tamil:\",end=\"\")\n",
        "BERT_task2tamil_eval=eval_predictions(BERT_task2tamil_output,task2tamil_truelabels)\n",
        "print(\"----------------------------------------------------------------------------------------------------------------\")\n",
        "print(\"Task1-Hindi:\",end=\"\")\n",
        "BERT_task1hindi_eval=eval_predictions(BERT_task1hindi_output,task1hindi_truelabels)\n",
        "print(\"Task2-Hindi:\",end=\"\")\n",
        "BERT_task2hindi_eval=eval_predictions(BERT_task2hindi_output,task2hindi_truelabels)\n",
        "print(\"----------------------------------------------------------------------------------------------------------------\")\n",
        "print(\"Task1-Malayalam:\",end=\"\")\n",
        "BERT_task1malayalam_eval=eval_predictions(BERT_task1malayalam_output,task1malayalam_truelabels)\n",
        "print(\"Task2-Malayalam:\",end=\"\")\n",
        "BERT_task2malayalam_eval=eval_predictions(BERT_task2malayalam_output,task2malayalam_truelabels)\n",
        "print(\"----------------------------------------------------------------------------------------------------------------\")\n",
        "print(\"Task1-Punjabi:\",end=\"\")\n",
        "BERT_task1punjabi_eval=eval_predictions(BERT_task1punjabi_output,task1punjabi_truelabels)\n",
        "print(\"Task2-Punjabi:\",end=\"\")\n",
        "BERT_task2punjabi_eval=eval_predictions(BERT_task2punjabi_output,task2punjabi_truelabels)\n",
        "print(\"----------------------------------------------------------------------------------------------------------------\")"
      ],
      "execution_count": null,
      "outputs": []
    },
    {
      "cell_type": "markdown",
      "metadata": {
        "id": "w3rlc7g8ea69",
        "colab_type": "text"
      },
      "source": [
        "**USE**"
      ]
    },
    {
      "cell_type": "code",
      "metadata": {
        "id": "w0GUT8pkedCE",
        "colab_type": "code",
        "colab": {}
      },
      "source": [
        "\n",
        "\n",
        "print(\"USE RESULTS\")\n",
        "print(\"----------------------------------------------------------------------------------------------------------------\")\n",
        "print(\"Task1-Tamil:\",end=\"\")\n",
        "USE_task1tamil_eval=eval_predictions(USE_task1tamil_output,task1tamil_truelabels)\n",
        "print(\"Task2-Tamil:\",end=\"\")\n",
        "USE_task2tamil_eval=eval_predictions(USE_task2tamil_output,task2tamil_truelabels)\n",
        "print(\"----------------------------------------------------------------------------------------------------------------\")\n",
        "print(\"Task1-Hindi:\",end=\"\")\n",
        "USE_task1hindi_eval=eval_predictions(USE_task1hindi_output,task1hindi_truelabels)\n",
        "print(\"Task2-Hindi:\",end=\"\")\n",
        "USE_task2hindi_eval=eval_predictions(USE_task2hindi_output,task2hindi_truelabels)\n",
        "print(\"----------------------------------------------------------------------------------------------------------------\")\n",
        "print(\"Task1-Malayalam:\",end=\"\")\n",
        "USE_task1malayalam_eval=eval_predictions(USE_task1malayalam_output,task1malayalam_truelabels)\n",
        "print(\"Task2-Malayalam:\",end=\"\")\n",
        "USE_task2malayalam_eval=eval_predictions(USE_task2malayalam_output,task2malayalam_truelabels)\n",
        "print(\"----------------------------------------------------------------------------------------------------------------\")\n",
        "print(\"Task1-Punjabi:\",end=\"\")\n",
        "USE_task1punjabi_eval=eval_predictions(USE_task1punjabi_output,task1punjabi_truelabels)\n",
        "print(\"Task2-Punjabi:\",end=\"\")\n",
        "USE_task2punjabi_eval=eval_predictions(USE_task2punjabi_output,task2punjabi_truelabels)\n",
        "print(\"----------------------------------------------------------------------------------------------------------------\")"
      ],
      "execution_count": null,
      "outputs": []
    },
    {
      "cell_type": "code",
      "metadata": {
        "id": "fKCmf0mCt6Q_",
        "colab_type": "code",
        "colab": {}
      },
      "source": [
        "print(\"Seq2Seq RESULTS\")\n",
        "print(\"----------------------------------------------------------------------------------------------------------------\")\n",
        "print(\"Task1-Tamil:\",end=\"\")\n",
        "SEQ_task1tamil_eval=eval_predictions(SEQ_task1tamil_output,task1tamil_truelabels)\n",
        "print(\"Task2-Tamil:\",end=\"\")\n",
        "SEQ_task2tamil_eval=eval_predictions(SEQ_task2tamil_output,task2tamil_truelabels)\n",
        "print(\"----------------------------------------------------------------------------------------------------------------\")\n",
        "print(\"Task1-Hindi:\",end=\"\")\n",
        "SEQ_task1hindi_eval=eval_predictions(SEQ_task1hindi_output,task1hindi_truelabels)\n",
        "print(\"Task2-Hindi:\",end=\"\")\n",
        "SEQ_task2hindi_eval=eval_predictions(SEQ_task2hindi_output,task2hindi_truelabels)\n",
        "print(\"----------------------------------------------------------------------------------------------------------------\")\n",
        "print(\"Task1-Malayalam:\",end=\"\")\n",
        "SEQ_task1malayalam_eval=eval_predictions(SEQ_task1malayalam_output,task1malayalam_truelabels)\n",
        "print(\"Task2-Malayalam:\",end=\"\")\n",
        "SEQ_task2malayalam_eval=eval_predictions(SEQ_task2malayalam_output,task2malayalam_truelabels)\n",
        "print(\"----------------------------------------------------------------------------------------------------------------\")\n",
        "print(\"Task1-Punjabi:\",end=\"\")\n",
        "SEQ_task1punjabi_eval=eval_predictions(SEQ_task1punjabi_output,task1punjabi_truelabels)\n",
        "print(\"Task2-Punjabi:\",end=\"\")\n",
        "SEQ_task2punjabi_eval=eval_predictions(SEQ_task2punjabi_output,task2punjabi_truelabels)\n",
        "print(\"----------------------------------------------------------------------------------------------------------------\")"
      ],
      "execution_count": null,
      "outputs": []
    },
    {
      "cell_type": "code",
      "metadata": {
        "id": "tFx8jhc2bO8F",
        "colab_type": "code",
        "colab": {}
      },
      "source": [
        "# from sklearn.metrics import accuracy_score\n",
        "# accuracy_score(task1tamil_output,task1tamil_truelabels)"
      ],
      "execution_count": null,
      "outputs": []
    },
    {
      "cell_type": "code",
      "metadata": {
        "id": "npnqiXRfbrsW",
        "colab_type": "code",
        "colab": {}
      },
      "source": [
        "# from sklearn.metrics import precision_score\n",
        "# precision_score(task1tamil_output,task1tamil_truelabels,average='weighted')"
      ],
      "execution_count": null,
      "outputs": []
    },
    {
      "cell_type": "code",
      "metadata": {
        "id": "G6kJSGPpcRMg",
        "colab_type": "code",
        "colab": {}
      },
      "source": [
        "# from sklearn.metrics import recall_score\n",
        "# recall_score(task1tamil_output,task1tamil_truelabels, average='weighted')"
      ],
      "execution_count": null,
      "outputs": []
    },
    {
      "cell_type": "code",
      "metadata": {
        "id": "g9vzKBgMckEC",
        "colab_type": "code",
        "colab": {}
      },
      "source": [
        "# from sklearn.metrics import f1_score\n",
        "# f1_score(task1tamil_output,task1tamil_truelabels, average='weighted')"
      ],
      "execution_count": null,
      "outputs": []
    },
    {
      "cell_type": "code",
      "metadata": {
        "id": "VlQ8CvfNmpzj",
        "colab_type": "code",
        "colab": {}
      },
      "source": [
        "# def generate_combined_probability_average(bert,use,seq,task):\n",
        "#   overall_probability=[]\n",
        "#   # print(bert)\n",
        "#   # print(use)\n",
        "#   # print(seq)\n",
        "#   if(task==1):\n",
        "#     for i in range(len(bert)):\n",
        "#       average_NP=(bert[i][0]+use[i][0]+seq[i][0])/3\n",
        "#       average_P=(bert[i][1]+use[i][1]+seq[i][1])/3\n",
        "#       overall_probability.append([average_NP,average_P])\n",
        "#   else:\n",
        "#     for i in range(len(bert)):\n",
        "#       average_NP=(bert[i][0]+use[i][0]+seq[i][0])/3\n",
        "#       average_P=(bert[i][1]+use[i][1]+seq[i][1])/3\n",
        "#       average_SP=(bert[i][2]+use[i][2]+seq[i][2])/3\n",
        "#       overall_probability.append([average_NP,average_P,average_SP])\n",
        "\n",
        "#   return overall_probability\n",
        "\n",
        "\n",
        "# def generate_combined_probability_majority(bert,use,seq,task,all_results):\n",
        "\n",
        "#   BERT_current_lang_task_prob=all_results[0]\n",
        "#   USE_current_lang_task_prob=all_results[1]\n",
        "#   SEQ_current_lang_task_prob=all_results[2]\n",
        "\n",
        "#   overall_prediction=[]\n",
        "#   if(task==1):\n",
        "#     for i in range(len(bert)):\n",
        "#       row=[bert[i],use[i],seq[i]]\n",
        "#       NP=row.count(0)\n",
        "#       P=row.count(1)\n",
        "#       if(NP>P):\n",
        "#         overall_prediction.append(0)\n",
        "#       elif(P>NP):\n",
        "#         overall_prediction.append(1)\n",
        "#   else:\n",
        "#     for i in range(len(bert)):\n",
        "#       row=[bert[i],use[i],seq[i]]\n",
        "#       NP=row.count(0)\n",
        "#       P=row.count(1)\n",
        "#       SP=row.count(2)\n",
        "#       if(NP>=2):\n",
        "#         overall_prediction.append(0)\n",
        "#       elif(P>=2):\n",
        "#         overall_prediction.append(1)\n",
        "#       elif(SP>=2):\n",
        "#         overall_prediction.append(2)\n",
        "#       else:\n",
        "#         bert_prob_of_pred=BERT_current_lang_task_prob[i][bert[i]]\n",
        "#         use_prob_of_pred=USE_current_lang_task_prob[i][use[i]]\n",
        "#         seq_prob_of_pred=SEQ_current_lang_task_prob[i][seq[i]]\n",
        "    \n",
        "#         max_prob_for_predictions=max(bert_prob_of_pred,\n",
        "#                                     use_prob_of_pred,\n",
        "#                                     seq_prob_of_pred)\n",
        "#         if(max_prob_for_predictions==bert_prob_of_pred):\n",
        "#           overall_prediction.append(bert[i])\n",
        "#         elif(max_prob_for_predictions==use_prob_of_pred):\n",
        "#           overall_prediction.append(use[i])\n",
        "#         elif(max_prob_for_predictions==seq_prob_of_pred):\n",
        "#           overall_prediction.append(seq[i])\n",
        "\n",
        "#   return overall_prediction\n",
        "\n",
        "# def predict_results(result_list):\n",
        "#   final_result=[]\n",
        "#   for i in range(len(result_list)):\n",
        "#     pos=result_list[i].index(max(result_list[i]))\n",
        "#     final_result.append(pos)\n",
        "#   return final_result\n",
        "\n",
        "\n"
      ],
      "execution_count": null,
      "outputs": []
    },
    {
      "cell_type": "markdown",
      "metadata": {
        "id": "BcJO77qgtiy9",
        "colab_type": "text"
      },
      "source": [
        "\n",
        "\n",
        "```\n",
        "'''\n",
        "    else:\n",
        "        bert_prob_of_pred=BERT_current_lang_task_prob[i][bert[i]]\n",
        "        use_prob_of_pred=USE_current_lang_task_prob[i][use[i]]\n",
        "        seq_prob_of_pred=SEQ_current_lang_task_prob[i][seq[i]]\n",
        "        max_prob_for_predictions=max(bert_prob_of_pred,\n",
        "                                     use_prob_of_pred,\n",
        "                                     seq_prob_of_pred)\n",
        "        if(max_prob_for_predictions==bert_prob_of_pred):\n",
        "          overall_prediction.append(bert[i])\n",
        "        elif(max_prob_for_predictions==use_prob_of_pred):\n",
        "          overall_prediction.append(use[i])\n",
        "        elif(max_prob_for_predictions==seq_prob_of_pred):\n",
        "          overall_prediction.append(seq[i])\n",
        "          '''\n",
        "          \n",
        "```\n",
        "\n"
      ]
    },
    {
      "cell_type": "code",
      "metadata": {
        "id": "RyEZ7PRViQRn",
        "colab_type": "code",
        "colab": {}
      },
      "source": [
        "# task1tamil_combined_probability=generate_combined_probability_average(BERT_task1tamil_results,USE_task1tamil_results,SEQ_task1tamil_results,1)\n",
        "# task1hindi_combined_probability=generate_combined_probability_average(BERT_task1hindi_results,USE_task1hindi_results,SEQ_task1hindi_results,1)\n",
        "# task1malayalam_combined_probability=generate_combined_probability_average(BERT_task1malayalam_results,USE_task1malayalam_results,SEQ_task1malayalam_results,1)\n",
        "# task1punjabi_combined_probability=generate_combined_probability_average(BERT_task1punjabi_results,USE_task1punjabi_results,SEQ_task1punjabi_results,1)\n",
        "\n",
        "# print(\"TASK1-TAMIL\")\n",
        "# task1tamil_combined_predictions=predict_results(task1tamil_combined_probability)\n",
        "# print(task1tamil_combined_predictions)\n",
        "# task1tamil_combined_eval=eval_predictions(task1tamil_combined_predictions,task1tamil_truelabels)\n",
        "# print(\"TASK1-HINDI\")\n",
        "# task1hindi_combined_predictions=predict_results(task1hindi_combined_probability)\n",
        "# print(task1hindi_combined_predictions)\n",
        "# task1hindi_combined_eval=eval_predictions(task1hindi_combined_predictions,task1hindi_truelabels)\n",
        "# print(\"TASK1-MALAYALAM\")\n",
        "# task1malayalam_combined_predictions=predict_results(task1malayalam_combined_probability)\n",
        "# print(task1tamil_combined_predictions)\n",
        "# task1malayalam_combined_eval=eval_predictions(task1malayalam_combined_predictions,task1malayalam_truelabels)\n",
        "# print(\"TASK1-PUNJABI\")\n",
        "# task1punjabi_combined_predictions=predict_results(task1punjabi_combined_probability)\n",
        "# print(task1punjabi_combined_predictions)\n",
        "# task1punjabi_combined_eval=eval_predictions(task1punjabi_combined_predictions,task1punjabi_truelabels)"
      ],
      "execution_count": null,
      "outputs": []
    },
    {
      "cell_type": "code",
      "metadata": {
        "id": "2aBdqC_ok9M_",
        "colab_type": "code",
        "colab": {}
      },
      "source": [
        "# task2tamil_combined_probability=generate_combined_probability_average(BERT_task2tamil_results,USE_task2tamil_results,SEQ_task2tamil_results,2)\n",
        "# task2hindi_combined_probability=generate_combined_probability_average(BERT_task2hindi_results,USE_task2hindi_results,SEQ_task2hindi_results,2)\n",
        "# task2malayalam_combined_probability=generate_combined_probability_average(BERT_task2malayalam_results,USE_task2malayalam_results,SEQ_task2malayalam_results,2)\n",
        "# task2punjabi_combined_probability=generate_combined_probability_average(BERT_task2punjabi_results,USE_task2punjabi_results,SEQ_task2punjabi_results,2)\n",
        "\n",
        "# print(\"TASK2-TAMIL\")\n",
        "# task2tamil_combined_predictions=predict_results(task2tamil_combined_probability)\n",
        "# #print(task2tamil_combined_predictions)\n",
        "# task2tamil_combined_eval=eval_predictions(task2tamil_combined_predictions,task2tamil_truelabels)\n",
        "# print(\"TASK2-HINDI\")\n",
        "# task2hindi_combined_predictions=predict_results(task2hindi_combined_probability)\n",
        "# #print(task2hindi_combined_predictions)\n",
        "# task2hindi_combined_eval=eval_predictions(task2hindi_combined_predictions,task2hindi_truelabels)\n",
        "# print(\"TASK2-MALAYALAM\")\n",
        "# task2malayalam_combined_predictions=predict_results(task2malayalam_combined_probability)\n",
        "# #print(task2malayalam_combined_predictions)\n",
        "# task2malayalam_combined_eval=eval_predictions(task2malayalam_combined_predictions,task2malayalam_truelabels)\n",
        "# print(\"TASK2-PUNJABI\")\n",
        "# task2punjabi_combined_predictions=predict_results(task2punjabi_combined_probability)\n",
        "# #print(task2punjabi_combined_predictions)\n",
        "# task2punjabi_combined_eval=eval_predictions(task2punjabi_combined_predictions,task2punjabi_truelabels)"
      ],
      "execution_count": null,
      "outputs": []
    },
    {
      "cell_type": "code",
      "metadata": {
        "id": "f2dN3zCe0Db9",
        "colab_type": "code",
        "colab": {}
      },
      "source": [
        "# task1tamil_probabilities=[BERT_task1tamil_results,USE_task1tamil_results,SEQ_task1tamil_results]\n",
        "# task1tamil_majority=generate_combined_probability_majority(BERT_task1tamil_output,USE_task1tamil_output,SEQ_task1tamil_output,1,task1tamil_probabilities)\n",
        "\n",
        "# task1hindi_probabilities=[BERT_task1hindi_results,USE_task1hindi_results,SEQ_task1hindi_results]\n",
        "# task1hindi_majority=generate_combined_probability_majority(BERT_task1hindi_output,USE_task1hindi_output,SEQ_task1hindi_output,1,task1hindi_probabilities)\n",
        "\n",
        "# task1malayalam_probabilities=[BERT_task1malayalam_results,USE_task1malayalam_results,SEQ_task1malayalam_results]\n",
        "# task1malayalam_majority=generate_combined_probability_majority(BERT_task1malayalam_output,USE_task1malayalam_output,SEQ_task1malayalam_output,1,task1malayalam_probabilities)\n",
        "\n",
        "# task1punjabi_probabilities=[BERT_task1punjabi_results,USE_task1punjabi_results,SEQ_task1punjabi_results]\n",
        "# task1punjabi_majority=generate_combined_probability_majority(BERT_task1punjabi_output,USE_task1punjabi_output,SEQ_task1punjabi_output,1,task1punjabi_probabilities)\n",
        "# print(\"True labels vs Predicted labels\")\n",
        "print(task1tamil_truelabels)\n",
        "print(task1tamil_merge_output)\n",
        "task1tamil_merge_eval=eval_predictions(task1tamil_merge_output,task1tamil_truelabels)\n",
        "\n",
        "print(\"True labels vs Predicted labels\")\n",
        "print(task1hindi_truelabels)\n",
        "print((task1hindi_merge_output))\n",
        "task1hindi_merge__eval=eval_predictions(task1hindi_merge_output,task1hindi_truelabels)\n",
        "print(\"True labels vs Predicted labels\")\n",
        "print(task1malayalam_truelabels)\n",
        "print(task1malayalam_merge_output)\n",
        "task1malayalam_merge__eval=eval_predictions(task1malayalam_merge_output,task1malayalam_truelabels)\n",
        "print(\"True labels vs Predicted labels\")\n",
        "print(task1punjabi_truelabels)\n",
        "print(task1punjabi_merge_output)\n",
        "task1punjabi_merge__eval=eval_predictions(task1punjabi_merge_output,task1punjabi_truelabels)"
      ],
      "execution_count": null,
      "outputs": []
    },
    {
      "cell_type": "markdown",
      "metadata": {
        "id": "1oSFF8RItyGK",
        "colab_type": "text"
      },
      "source": [
        ""
      ]
    },
    {
      "cell_type": "code",
      "metadata": {
        "id": "dJG43FqC2gQo",
        "colab_type": "code",
        "colab": {}
      },
      "source": [
        "# task2tamil_probabilities=[BERT_task2tamil_results,USE_task2tamil_results,SEQ_task2tamil_results]\n",
        "# task2tamil_majority=generate_combined_probability_majority(BERT_task2tamil_output,USE_task2tamil_output,SEQ_task2tamil_output,2,task2tamil_probabilities)\n",
        "\n",
        "# task2hindi_probabilities=[BERT_task2hindi_results,USE_task2hindi_results,SEQ_task2hindi_results]\n",
        "# task2hindi_majority=generate_combined_probability_majority(BERT_task2hindi_output,USE_task2hindi_output,SEQ_task2hindi_output,2,task2hindi_probabilities)\n",
        "\n",
        "# task2malayalam_probabilities=[BERT_task2malayalam_results,USE_task2malayalam_results,SEQ_task2malayalam_results]\n",
        "# task2malayalam_majority=generate_combined_probability_majority(BERT_task2malayalam_output,USE_task2malayalam_output,SEQ_task2malayalam_output,2,task2malayalam_probabilities)\n",
        "\n",
        "# task2punjabi_probabilities=[BERT_task2punjabi_results,USE_task2punjabi_results,SEQ_task2punjabi_results]\n",
        "# task2punjabi_majority=generate_combined_probability_majority(BERT_task2punjabi_output,USE_task2punjabi_output,SEQ_task2punjabi_output,2,task2punjabi_probabilities)\n",
        "print(\"TASK2TAMIL-True labels vs Predicted labels\")\n",
        "print(task2tamil_truelabels)\n",
        "print(task2tamil_merge_output)\n",
        "task2tamil_merge_eval=eval_predictions(task2tamil_merge_output,task2tamil_truelabels)\n",
        "print(\"TASK2HINDI-True labels vs Predicted labels\")\n",
        "print(task2hindi_truelabels)\n",
        "print((task2hindi_merge_output))\n",
        "task2hindi_merge_eval=eval_predictions(task2hindi_merge_output,task2hindi_truelabels)\n",
        "print(\"TASK2MALAYALAM-True labels vs Predicted labels\")\n",
        "print(task2malayalam_truelabels)\n",
        "print(task2malayalam_merge_output)\n",
        "task2malayalam_merge_eval=eval_predictions(task2malayalam_merge_output,task2malayalam_truelabels)\n",
        "print(\"TASK2PUNJABI-True labels vs Predicted labels\")\n",
        "print(task2punjabi_truelabels)\n",
        "print(task2punjabi_merge_output)\n",
        "task2punjabi_merge_eval=eval_predictions(task2punjabi_merge_output,task2punjabi_truelabels)"
      ],
      "execution_count": null,
      "outputs": []
    },
    {
      "cell_type": "code",
      "metadata": {
        "id": "5xvOxp1Qknd5",
        "colab_type": "code",
        "colab": {}
      },
      "source": [
        "def confusion1(pred_labels_here,true_labels_here):\n",
        "  tp=tn=fp=fn=0\n",
        "  P_true_count=NP_true_count=P_pred_count=NP_pred_count=0\n",
        "  for i in range(len(true_labels_here)):\n",
        "    if(true_labels_here[i]==1):\n",
        "      P_true_count+=1\n",
        "    else:\n",
        "      NP_true_count+=1\n",
        "    if(pred_labels_here[i]==1):\n",
        "      P_pred_count+=1\n",
        "    else:\n",
        "      NP_pred_count+=1\n",
        "    if(true_labels_here[i]==1 and pred_labels_here[i]==1):\n",
        "      tp+=1\n",
        "    if(true_labels_here[i]==0 and pred_labels_here[i]==0):\n",
        "      tn+=1\n",
        "    if(true_labels_here[i]==1 and pred_labels_here[i]==0):\n",
        "      fn+=1\n",
        "    if(true_labels_here[i]==0 and pred_labels_here[i]==1):\n",
        "      fp+=1\n",
        "\n",
        "  confusion_hash={'tp':tp,'tn':tn,'fp':fp,'fn':fn}\n",
        "  print(\"Number of  true paraphrases:\",P_true_count)\n",
        "  print(\"Number of  predicted paraphrases:\",P_pred_count)\n",
        "  print(\"Number of  true Non-Paraphrases:\",NP_true_count)\n",
        "  print(\"Number of  predicted Non-Paraphrases:\",NP_pred_count)\n",
        "  return confusion_hash\n",
        "    "
      ],
      "execution_count": null,
      "outputs": []
    },
    {
      "cell_type": "code",
      "metadata": {
        "id": "wHQLIUct7boB",
        "colab_type": "code",
        "colab": {}
      },
      "source": [
        "def confusion2(pred_labels_here,true_labels_here):\n",
        "  tp_P=tp_NP=tp_SP=0\n",
        "  P_true_count=NP_true_count=P_pred_count=NP_pred_count=SP_true_count=SP_pred_count=0\n",
        "  for i in range(len(true_labels_here)):\n",
        "    if(true_labels_here[i]==1):\n",
        "      P_true_count+=1\n",
        "    elif(true_labels_here[i]==0):\n",
        "      NP_true_count+=1\n",
        "    else:\n",
        "      SP_true_count+=1\n",
        "    if(pred_labels_here[i]==1):\n",
        "      P_pred_count+=1\n",
        "    elif(pred_labels_here[i]==0):\n",
        "      NP_pred_count+=1\n",
        "    else:\n",
        "      SP_pred_count+=1\n",
        "    if(true_labels_here[i]==1 and pred_labels_here[i]==1):\n",
        "      tp_P+=1\n",
        "    if(true_labels_here[i]==0 and pred_labels_here[i]==0):\n",
        "      tp_NP+=1\n",
        "    if(true_labels_here[i]==2 and pred_labels_here[i]==2):\n",
        "      tp_SP+=1\n",
        "\n",
        "\n",
        "\n",
        "  confusion_hash={'tp_P':tp_P,'t_NP':tp_NP,'tp_SP':tp_SP}\n",
        "  print(\"Number of  true paraphrases:\",P_true_count)\n",
        "  print(\"Number of  predicted paraphrases:\",P_pred_count)\n",
        "  print(\"Number of  true Non-Paraphrases:\",NP_true_count)\n",
        "  print(\"Number of  predicted Non-Paraphrases:\",NP_pred_count)\n",
        "  print(\"Number of  true Semi-Paraphrases:\",SP_true_count)\n",
        "  print(\"Number of  predicted Semi-Paraphrases:\",SP_pred_count)\n",
        "  return confusion_hash\n",
        "    "
      ],
      "execution_count": null,
      "outputs": []
    },
    {
      "cell_type": "code",
      "metadata": {
        "id": "yrjFoEUkoSBa",
        "colab_type": "code",
        "colab": {}
      },
      "source": [
        "#TAMIL confusion matrix\n",
        "print(\"\\n\\n\")\n",
        "print(\"TAMIL CONFUSION MATRIX VALUES\")\n",
        "print(\"TASK 1\")\n",
        "print(\"----------------------------BERT----------------------------------------\")\n",
        "tamil1_BERT_confusion=confusion1(BERT_task1tamil_output,task1tamil_truelabels)\n",
        "print(tamil1_BERT_confusion)\n",
        "print(\"-----------------------------SEQ------------------------------------\")\n",
        "tamil1_SEQ_confusion=confusion1(SEQ_task1tamil_output,task1tamil_truelabels)\n",
        "print(tamil1_SEQ_confusion)\n",
        "print(\"-----------------------------USE------------------------------------\")\n",
        "tamil1_USE_confusion=confusion1(USE_task1tamil_output,task1tamil_truelabels)\n",
        "print(tamil1_USE_confusion)\n",
        "print(\"-------------------------------------------------------------------------------------------------------------------------------------------------\")\n",
        "\n",
        "print(\"-------------------------------------------------------------------------------------------------------------------------------------------------\")\n",
        "\n",
        "print(\"TASK 2\")\n",
        "print(\"----------------------------BERT----------------------------------------\")\n",
        "tamil2_BERT_confusion=confusion2(BERT_task2tamil_output,task2tamil_truelabels)\n",
        "print(tamil2_BERT_confusion)\n",
        "print(\"-----------------------------SEQ------------------------------------\")\n",
        "tamil2_SEQ_confusion=confusion2(SEQ_task2tamil_output,task2tamil_truelabels)\n",
        "print(tamil2_SEQ_confusion)\n",
        "print(\"-----------------------------USE------------------------------------\")\n",
        "tamil2_USE_confusion=confusion2(USE_task2tamil_output,task2tamil_truelabels)\n",
        "print(tamil2_USE_confusion)\n",
        "print(\"-------------------------------------------------------------------------------------------------------------------------------------------------\")\n",
        "print(\"-------------------------------------------------------------------------------------------------------------------------------------------------\")\n",
        "print(\"-------------------------------------------------------------------------------------------------------------------------------------------------\")"
      ],
      "execution_count": null,
      "outputs": []
    },
    {
      "cell_type": "code",
      "metadata": {
        "id": "z0vOpWdGxqNb",
        "colab_type": "code",
        "colab": {}
      },
      "source": [
        "#MALAYALAM confusion matrix\n",
        "print(\"\\n\\n\")\n",
        "print(\"Malayalam CONFUSION MATRIX VALUES\")\n",
        "print(\"TASK 1\")\n",
        "print(\"----------------------------BERT----------------------------------------\")\n",
        "malayalam1_BERT_confusion=confusion1(BERT_task1malayalam_output,task1malayalam_truelabels)\n",
        "print(malayalam1_BERT_confusion)\n",
        "print(\"-----------------------------SEQ------------------------------------\")\n",
        "malayalam1_SEQ_confusion=confusion1(SEQ_task1malayalam_output,task1malayalam_truelabels)\n",
        "print(malayalam1_SEQ_confusion)\n",
        "print(\"-----------------------------USE------------------------------------\")\n",
        "malayalam1_USE_confusion=confusion1(USE_task1malayalam_output,task1malayalam_truelabels)\n",
        "print(malayalam1_USE_confusion)\n",
        "print(\"-------------------------------------------------------------------------------------------------------------------------------------------------\")\n",
        "\n",
        "print(\"-------------------------------------------------------------------------------------------------------------------------------------------------\")\n",
        "print(\"-------------------------------------------------------------------------------------------------------------------------------------------------\")\n",
        "\n",
        "print(\"TASK 2\")\n",
        "print(\"----------------------------BERT----------------------------------------\")\n",
        "malayalam2_BERT_confusion=confusion2(BERT_task2malayalam_output,task2malayalam_truelabels)\n",
        "print(malayalam2_BERT_confusion)\n",
        "print(\"-----------------------------SEQ------------------------------------\")\n",
        "malayalam2_SEQ_confusion=confusion2(SEQ_task2malayalam_output,task2malayalam_truelabels)\n",
        "print(malayalam2_SEQ_confusion)\n",
        "print(\"-----------------------------USE------------------------------------\")\n",
        "malayalam2_USE_confusion=confusion2(USE_task2malayalam_output,task2malayalam_truelabels)\n",
        "print(malayalam2_USE_confusion)\n",
        "print(\"-------------------------------------------------------------------------------------------------------------------------------------------------\")\n",
        "print(\"-------------------------------------------------------------------------------------------------------------------------------------------------\")\n",
        "print(\"-------------------------------------------------------------------------------------------------------------------------------------------------\")"
      ],
      "execution_count": null,
      "outputs": []
    },
    {
      "cell_type": "code",
      "metadata": {
        "id": "cJrUIBbpzyy6",
        "colab_type": "code",
        "colab": {}
      },
      "source": [
        "#HINDI confusion matrix\n",
        "print(\"\\n\\n\")\n",
        "print(\"HINDI CONFUSION MATRIX VALUES\")\n",
        "print(\"TASK 1\")\n",
        "print(\"----------------------------BERT----------------------------------------\")\n",
        "hindi1_BERT_confusion=confusion1(BERT_task1hindi_output,task1hindi_truelabels)\n",
        "print(hindi1_BERT_confusion)\n",
        "print(\"-----------------------------SEQ------------------------------------\")\n",
        "hindi1_SEQ_confusion=confusion1(SEQ_task1hindi_output,task1hindi_truelabels)\n",
        "print(hindi1_SEQ_confusion)\n",
        "print(\"-----------------------------USE------------------------------------\")\n",
        "hindi1_USE_confusion=confusion1(USE_task1hindi_output,task1hindi_truelabels)\n",
        "print(hindi1_USE_confusion)\n",
        "print(\"-------------------------------------------------------------------------------------------------------------------------------------------------\")\n",
        "print(\"-------------------------------------------------------------------------------------------------------------------------------------------------\")\n",
        "print(\"-------------------------------------------------------------------------------------------------------------------------------------------------\")\n",
        "\n",
        "print(\"TASK 2\")\n",
        "print(\"----------------------------BERT----------------------------------------\")\n",
        "hindi2_BERT_confusion=confusion2(BERT_task2hindi_output,task2hindi_truelabels)\n",
        "print(hindi2_BERT_confusion)\n",
        "print(\"-----------------------------SEQ------------------------------------\")\n",
        "hindi2_SEQ_confusion=confusion2(SEQ_task2hindi_output,task2hindi_truelabels)\n",
        "print(hindi2_SEQ_confusion)\n",
        "print(\"-----------------------------USE------------------------------------\")\n",
        "hindi2_USE_confusion=confusion2(USE_task2hindi_output,task2hindi_truelabels)\n",
        "print(hindi2_USE_confusion)\n",
        "print(\"-------------------------------------------------------------------------------------------------------------------------------------------------\")\n",
        "print(\"-------------------------------------------------------------------------------------------------------------------------------------------------\")\n",
        "print(\"-------------------------------------------------------------------------------------------------------------------------------------------------\")"
      ],
      "execution_count": null,
      "outputs": []
    },
    {
      "cell_type": "code",
      "metadata": {
        "id": "GHQjetFd2Wp1",
        "colab_type": "code",
        "colab": {}
      },
      "source": [
        "#PUNJABI confusion matrix\n",
        "print(\"\\n\\n\")\n",
        "print(\"PUNJABI CONFUSION MATRIX VALUES\")\n",
        "print(\"TASK 1\")\n",
        "print(\"----------------------------BERT----------------------------------------\")\n",
        "punjabi1_BERT_confusion=confusion1(BERT_task1punjabi_output,task1punjabi_truelabels)\n",
        "print(punjabi1_BERT_confusion)\n",
        "print(\"-----------------------------SEQ------------------------------------\")\n",
        "punjabi1_SEQ_confusion=confusion1(SEQ_task1punjabi_output,task1punjabi_truelabels)\n",
        "print(punjabi1_SEQ_confusion)\n",
        "print(\"-----------------------------USE------------------------------------\")\n",
        "punjabi1_USE_confusion=confusion1(USE_task1punjabi_output,task1punjabi_truelabels)\n",
        "print(punjabi1_USE_confusion)\n",
        "print(\"-------------------------------------------------------------------------------------------------------------------------------------------------\")\n",
        "print(\"-------------------------------------------------------------------------------------------------------------------------------------------------\")\n",
        "print(\"-------------------------------------------------------------------------------------------------------------------------------------------------\")\n",
        "\n",
        "print(\"TASK 2\")\n",
        "print(\"----------------------------BERT----------------------------------------\")\n",
        "punjabi2_BERT_confusion=confusion2(BERT_task2punjabi_output,task2punjabi_truelabels)\n",
        "print(punjabi2_BERT_confusion)\n",
        "print(\"-----------------------------SEQ------------------------------------\")\n",
        "punjabi2_SEQ_confusion=confusion2(SEQ_task2punjabi_output,task2punjabi_truelabels)\n",
        "print(punjabi2_SEQ_confusion)\n",
        "print(\"-----------------------------USE------------------------------------\")\n",
        "punjabi2_USE_confusion=confusion2(USE_task2punjabi_output,task2punjabi_truelabels)\n",
        "print(punjabi2_USE_confusion)\n",
        "print(\"-------------------------------------------------------------------------------------------------------------------------------------------------\")\n",
        "print(\"-------------------------------------------------------------------------------------------------------------------------------------------------\")\n",
        "print(\"-------------------------------------------------------------------------------------------------------------------------------------------------\")"
      ],
      "execution_count": null,
      "outputs": []
    },
    {
      "cell_type": "code",
      "metadata": {
        "id": "E5HA7QaK5Wka",
        "colab_type": "code",
        "colab": {}
      },
      "source": [
        "print(\"-----------------------------Final result------------------------------------\")\n",
        "tamil1_MERGE_confusion=confusion1(task1tamil_merge_output,task1tamil_truelabels)\n",
        "print(tamil1_MERGE_confusion)\n",
        "print(\"-------------------------------------------------------------------------------------------------------------------------------------------------\")\n",
        "malayalam1_MERGE_confusion=confusion1(task1malayalam_merge_output,task1malayalam_truelabels)\n",
        "print(malayalam1_MERGE_confusion)\n",
        "print(\"-------------------------------------------------------------------------------------------------------------------------------------------------\")\n",
        "hindi1_MERGE_confusion=confusion1(task1hindi_merge_output,task1hindi_truelabels)\n",
        "print(hindi1_MERGE_confusion)\n",
        "print(\"-------------------------------------------------------------------------------------------------------------------------------------------------\")\n",
        "punjabi1_MERGE_confusion=confusion1(task1punjabi_merge_output,task1punjabi_truelabels)\n",
        "print(punjabi1_MERGE_confusion)\n",
        "print(\"-------------------------------------------------------------------------------------------------------------------------------------------------\")"
      ],
      "execution_count": null,
      "outputs": []
    },
    {
      "cell_type": "code",
      "metadata": {
        "id": "SPHZhSkL6BVs",
        "colab_type": "code",
        "colab": {}
      },
      "source": [
        "print(\"-----------------------------final result------------------------------------\")\n",
        "tamil2_MERGE_confusion=confusion2(task2tamil_merge_output,task2tamil_truelabels)\n",
        "print(tamil2_MERGE_confusion)\n",
        "print(\"-------------------------------------------------------------------------------------------------------------------------------------------------\")\n",
        "malayalam2_MERGE_confusion=confusion2(task2malayalam_merge_output,task2malayalam_truelabels)\n",
        "print(malayalam2_MERGE_confusion)\n",
        "print(\"-------------------------------------------------------------------------------------------------------------------------------------------------\")\n",
        "hindi2_MERGE_confusion=confusion2(task2hindi_merge_output,task2hindi_truelabels)\n",
        "print(hindi2_MERGE_confusion)\n",
        "print(\"-------------------------------------------------------------------------------------------------------------------------------------------------\")\n",
        "punjabi2_MERGE_confusion=confusion2(task2punjabi_merge_output,task2punjabi_truelabels)\n",
        "print(punjabi2_MERGE_confusion)\n",
        "print(\"-------------------------------------------------------------------------------------------------------------------------------------------------\")"
      ],
      "execution_count": null,
      "outputs": []
    }
  ]
}